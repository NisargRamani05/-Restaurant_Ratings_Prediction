{
 "cells": [
  {
   "cell_type": "code",
   "execution_count": null,
   "id": "initial_id",
   "metadata": {
    "collapsed": true
   },
   "outputs": [],
   "source": "!pip install scikit-learn seaborn"
  },
  {
   "metadata": {},
   "cell_type": "code",
   "outputs": [],
   "execution_count": null,
   "source": [
    "import pandas as pd\n",
    "import numpy as np\n",
    "import matplotlib.pyplot as plt\n",
    "import seaborn as sns\n",
    "\n",
    "from sklearn.model_selection import train_test_split\n",
    "from sklearn.preprocessing import LabelEncoder, StandardScaler\n",
    "from sklearn.linear_model import LinearRegression\n",
    "from sklearn.tree import DecisionTreeRegressor\n",
    "from sklearn.ensemble import RandomForestRegressor\n",
    "from sklearn.metrics import mean_squared_error, mean_absolute_error, r2_score"
   ],
   "id": "d809a50c8c57aa1"
  },
  {
   "metadata": {},
   "cell_type": "code",
   "outputs": [],
   "execution_count": null,
   "source": [
    "# Load sample data since actual dataset is not provided\n",
    "# Creating a synthetic dataset for demonstration\n",
    "np.random.seed(42)\n",
    "n_samples = 1000\n",
    "\n",
    "data = {\n",
    "    'Restaurant ID': range(1, n_samples + 1),\n",
    "    'Restaurant Name': [f'Restaurant_{i}' for i in range(n_samples)],\n",
    "    'City': np.random.choice(['City A', 'City B', 'City C'], n_samples),\n",
    "    'Cuisines': np.random.choice(['Italian', 'Indian', 'Chinese', 'Mexican'], n_samples),\n",
    "    'Average Cost for two': np.random.normal(50, 20, n_samples),\n",
    "    'Currency': np.random.choice(['$', '€', '£'], n_samples),\n",
    "    'Has Table booking': np.random.choice(['Yes', 'No'], n_samples),\n",
    "    'Has Online delivery': np.random.choice(['Yes', 'No'], n_samples),\n",
    "    'Price range': np.random.randint(1, 5, n_samples),\n",
    "    'Votes': np.random.randint(0, 1000, n_samples),\n",
    "    'Aggregate rating': np.random.normal(4, 0.5, n_samples).clip(0, 5)\n",
    "}\n",
    "\n",
    "df = pd.DataFrame(data)\n",
    "\n",
    "print(\"Dataset Shape:\", df.shape)\n",
    "print(\"\\nDataset Info:\")\n",
    "df.info()\n",
    "\n",
    "print(\"\\nMissing Values:\")\n",
    "print(df.isnull().sum())\n",
    "\n",
    "print(\"\\nStatistical Summary:\")\n",
    "print(df.describe())"
   ],
   "id": "cc938c099625f51a"
  },
  {
   "metadata": {},
   "cell_type": "code",
   "outputs": [],
   "execution_count": null,
   "source": [
    "# Data preprocessing\n",
    "columns_to_drop = ['Restaurant ID', 'Restaurant Name']\n",
    "df.drop(columns=columns_to_drop, inplace=True)\n",
    "\n",
    "# Encode categorical variables\n",
    "label_encoders = {}\n",
    "categorical_columns = ['City', 'Cuisines', 'Currency',\n",
    "                      'Has Table booking', 'Has Online delivery']\n",
    "for col in categorical_columns:\n",
    "    if col in df.columns:\n",
    "        le = LabelEncoder()\n",
    "        df[col] = le.fit_transform(df[col])\n",
    "        label_encoders[col] = le\n",
    "\n",
    "# Scale numerical features\n",
    "scaler = StandardScaler()\n",
    "numerical_columns = ['Average Cost for two', 'Price range', 'Votes']\n",
    "for col in numerical_columns:\n",
    "    if col in df.columns:\n",
    "        df[col] = scaler.fit_transform(df[[col]])"
   ],
   "id": "1dc904478e77b02e"
  },
  {
   "metadata": {},
   "cell_type": "code",
   "outputs": [],
   "execution_count": null,
   "source": [
    "# Rating distribution plot\n",
    "plt.figure(figsize=(8, 6))\n",
    "sns.histplot(df['Aggregate rating'], bins=20, kde=True, color='#1f77b4', edgecolor='#333333')\n",
    "plt.title('Distribution of Aggregate Rating', fontsize=16, fontweight='bold', color='#444444')\n",
    "plt.xlabel('Aggregate Rating', fontsize=14, color='#666666')\n",
    "plt.ylabel('Frequency', fontsize=14, color='#666666')\n",
    "plt.grid(True, linestyle='--', alpha=0.5, color='#888888')\n",
    "plt.gca().set_facecolor('#f7f7f7')\n",
    "plt.show()"
   ],
   "id": "9e2572640d0f18f7"
  },
  {
   "metadata": {},
   "cell_type": "code",
   "outputs": [],
   "execution_count": null,
   "source": [
    "# Correlation heatmap\n",
    "plt.figure(figsize=(12, 10))\n",
    "corr_matrix = df.corr()\n",
    "sns.heatmap(corr_matrix, annot=True, fmt=\".2f\", cmap='viridis', linewidths=1,\n",
    "            annot_kws={'size': 12, 'weight': 'bold', 'color': 'white'})\n",
    "plt.title('Correlation Heatmap', fontsize=16, fontweight='bold', color='#222222')\n",
    "plt.xticks(fontsize=12, rotation=45, ha='right', color='#555555')\n",
    "plt.yticks(fontsize=12, rotation=0, color='#555555')\n",
    "plt.gca().set_facecolor('#f0f0f0')\n",
    "plt.show()"
   ],
   "id": "40823b8fb59b646b"
  },
  {
   "metadata": {},
   "cell_type": "code",
   "outputs": [],
   "execution_count": null,
   "source": [
    "# Prepare data for modeling\n",
    "X = df.drop('Aggregate rating', axis=1)\n",
    "y = df['Aggregate rating']\n",
    "\n",
    "X_train, X_test, y_train, y_test = train_test_split(X, y, test_size=0.2, random_state=42)\n",
    "\n",
    "print(\"X_train shape:\", X_train.shape)\n",
    "print(\"X_test shape:\", X_test.shape)"
   ],
   "id": "8c3a0768912394bd"
  },
  {
   "metadata": {},
   "cell_type": "code",
   "outputs": [],
   "execution_count": null,
   "source": [
    "# Train and evaluate models\n",
    "models = {\n",
    "    'Linear Regression': LinearRegression(),\n",
    "    'Decision Tree': DecisionTreeRegressor(random_state=42),\n",
    "    'Random Forest': RandomForestRegressor(n_estimators=100, random_state=42)\n",
    "}\n",
    "\n",
    "for name, model in models.items():\n",
    "    model.fit(X_train, y_train)\n",
    "    predictions = model.predict(X_test)\n",
    "    print(f\"\\n{name} Performance:\")\n",
    "    print(\"Mean Absolute Error:\", mean_absolute_error(y_test, predictions))\n",
    "    print(\"Mean Squared Error:\", mean_squared_error(y_test, predictions))\n",
    "    print(\"Root Mean Squared Error:\", np.sqrt(mean_squared_error(y_test, predictions)))\n",
    "    print(\"R-squared Score:\", r2_score(y_test, predictions))"
   ],
   "id": "9423322efaa2b98f"
  },
  {
   "metadata": {},
   "cell_type": "code",
   "outputs": [],
   "execution_count": null,
   "source": [
    "\n",
    "```python"
   ],
   "id": "75ec60848e4039df"
  }
 ],
 "metadata": {
  "kernelspec": {
   "display_name": "Python 3",
   "language": "python",
   "name": "python3"
  },
  "language_info": {
   "codemirror_mode": {
    "name": "ipython",
    "version": 2
   },
   "file_extension": ".py",
   "mimetype": "text/x-python",
   "name": "python",
   "nbconvert_exporter": "python",
   "pygments_lexer": "ipython2",
   "version": "2.7.6"
  }
 },
 "nbformat": 4,
 "nbformat_minor": 5
}
